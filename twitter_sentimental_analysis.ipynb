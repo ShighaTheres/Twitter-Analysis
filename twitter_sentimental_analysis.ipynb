{
 "cells": [
  {
   "cell_type": "code",
   "execution_count": 9,
   "id": "f40d7884",
   "metadata": {},
   "outputs": [],
   "source": [
    "import tweepy\n",
    "from textblob import TextBlob"
   ]
  },
  {
   "cell_type": "code",
   "execution_count": 10,
   "id": "b6b1bda8",
   "metadata": {},
   "outputs": [],
   "source": [
    "consumer_key = '........'\n",
    "consumer_secret = '........'\n",
    "access_token = '..........'\n",
    "access_token_secret = '........'"
   ]
  },
  {
   "cell_type": "code",
   "execution_count": 11,
   "id": "03bf835f",
   "metadata": {},
   "outputs": [],
   "source": [
    "auth = tweepy.OAuthHandler(consumer_key, consumer_secret)\n",
    "auth.set_access_token(access_token, access_token_secret)\n",
    "api = tweepy.API(auth)"
   ]
  },
  {
   "cell_type": "code",
   "execution_count": 12,
   "id": "4b0d9417",
   "metadata": {},
   "outputs": [
    {
     "name": "stdout",
     "output_type": "stream",
     "text": [
      "RT @wearmask4: @sachin_rt @BhuviOfficial भारत रत्न, देश में और भी बहुत सारे लोगों की मौतें हो रही है। कैसे भारत रत्न हो, देश के लोगों के लि…\n",
      "Sentiment(polarity=0.0, subjectivity=0.0)\n",
      "Neutral\n",
      "RT @MadhuPr40471327: Why Was Sachin vaze at the mortuary?\n",
      "Sandeep snake singh was thumps upping whom?Was Sachin vaze at Cooper too?\n",
      "Was Sac…\n",
      "Sentiment(polarity=0.0, subjectivity=0.0)\n",
      "Neutral\n",
      "RT @BOWorldwide: “We just went for it”, Sonia Rathee on Kissing Siddharth Shukla in ‘Broken But Beautiful 3’! \n",
      "#siddharthshukla #SoniaRathe…\n",
      "Sentiment(polarity=0.3, subjectivity=0.7)\n",
      "Positive\n",
      "RT @bhawnakohli5: Sachin Tendulkar has more five-wicket haul in ODI than Shane Warne.\n",
      "Sentiment(polarity=0.5, subjectivity=0.5)\n",
      "Positive\n",
      "RT @Preetha_AK: @djfreezechill Yes Freeze, you are 110% absolutely right... It is that murderer and rapist Sachin Vaze who was there within…\n",
      "Sentiment(polarity=0.2857142857142857, subjectivity=0.5357142857142857)\n",
      "Positive\n",
      "RT @Kush_voice: मोदी को एक्टिंग के क्षेत्र में ऑस्कर मिलना चाहिए।\n",
      "#ड्रामेबाज_मोदी\n",
      "Sentiment(polarity=0.0, subjectivity=0.0)\n",
      "Neutral\n",
      "@Jitendransui @Hemaram_INC @SachinPilot Sachin pilot jindabad\n",
      "Sentiment(polarity=0.0, subjectivity=0.0)\n",
      "Neutral\n",
      "@sachin_rt @BhuviOfficial ఓం శాంతి..\n",
      "Sentiment(polarity=0.0, subjectivity=0.0)\n",
      "Neutral\n",
      "RT @Cricketracker: Most centuries in a calendar year:\n",
      "\n",
      "Sachin Tendulkar - 12 (1998)\n",
      "Virat Kohli - 11 (2017)\n",
      "Virat Kohli - 11 (2018)\n",
      "Ricky P…\n",
      "Sentiment(polarity=0.5, subjectivity=0.5)\n",
      "Positive\n",
      "RT @OmgSachin: New Look of @sachin_rt ❤️💕🥰 https://t.co/kMTc81aqqx\n",
      "Sentiment(polarity=0.13636363636363635, subjectivity=0.45454545454545453)\n",
      "Positive\n",
      "@USacchitanand Good afternoon Respected Sachin Sir...\n",
      "Call on BPCL 450 CE given yesterday in CHOTA OPTION BADI KAMA… https://t.co/Cg7yyz7gXh\n",
      "Sentiment(polarity=0.7, subjectivity=0.6000000000000001)\n",
      "Positive\n",
      "RT @WisdenIndia: Most international runs in won matches:\n",
      "\n",
      "🇦🇺 Ricky Ponting - 20,140 @ 53.42\n",
      "🇮🇳 Sachin Tendulkar - 17,113 @ 58.20\n",
      "🇿🇦 Jacques…\n",
      "Sentiment(polarity=0.25, subjectivity=0.25)\n",
      "Positive\n",
      "@sachin_inc भारत ने नही कांग्रेस ने..!\n",
      "Sentiment(polarity=0.0, subjectivity=0.0)\n",
      "Neutral\n",
      "RT @Devendrabjp110: આજ રોજ ગુજરાત પ્રદેશ મહિલા મોરચા પ્રમુખ Dr Deepika Sachin Sardava આણંદ જિલ્લા ની મુલાકાત માટે પધાર્યા. આ પ્રસંગે આણંદ…\n",
      "Sentiment(polarity=0.0, subjectivity=0.0)\n",
      "Neutral\n",
      "RT @bhawnakohli5: Sachin Tendulkar has more five-wicket haul in ODI than Shane Warne.\n",
      "Sentiment(polarity=0.5, subjectivity=0.5)\n",
      "Positive\n"
     ]
    }
   ],
   "source": [
    "public_tweets = api.search('Sachin')\n",
    "for tweet in public_tweets:\n",
    "    print(tweet.text)\n",
    "    analysis = TextBlob(tweet.text)\n",
    "    print(analysis.sentiment)\n",
    "    if analysis.sentiment[0]>0:\n",
    "        print('Positive')\n",
    "    elif analysis.sentiment[0]<0:\n",
    "        print('Negative')\n",
    "    else:\n",
    "        print('Neutral')"
   ]
  },
  {
   "cell_type": "code",
   "execution_count": null,
   "id": "10145d07",
   "metadata": {},
   "outputs": [],
   "source": []
  }
 ],
 "metadata": {
  "kernelspec": {
   "display_name": "Python 3",
   "language": "python",
   "name": "python3"
  },
  "language_info": {
   "codemirror_mode": {
    "name": "ipython",
    "version": 3
   },
   "file_extension": ".py",
   "mimetype": "text/x-python",
   "name": "python",
   "nbconvert_exporter": "python",
   "pygments_lexer": "ipython3",
   "version": "3.8.8"
  }
 },
 "nbformat": 4,
 "nbformat_minor": 5
}
